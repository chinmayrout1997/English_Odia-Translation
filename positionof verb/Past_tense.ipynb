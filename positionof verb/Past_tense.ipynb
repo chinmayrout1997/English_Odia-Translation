{
 "cells": [
  {
   "cell_type": "code",
   "execution_count": 2,
   "metadata": {},
   "outputs": [
    {
     "name": "stdout",
     "output_type": "stream",
     "text": [
      "['She', 'was', 'eating']\n",
      "khaauuthhilaa\n"
     ]
    }
   ],
   "source": [
    "import nltk\n",
    "from nltk import regexp_tokenize\n",
    "sent=\"She was eating\"\n",
    "suf=''\n",
    "text=regexp_tokenize(sent,\"[\\w']+\")\n",
    "print text\n",
    "nltk.pos_tag(text)\n",
    "c=0\n",
    "k=0\n",
    "#print len(text)\n",
    "for i in range(0,(len(text))):\n",
    "    x=nltk.pos_tag(text)[i][1]\n",
    "    r={\"VBP\":1,\n",
    "       \"VBD\":2,\n",
    "       \"VBG\":2,\n",
    "       \"VBN\":3,\n",
    "    }\n",
    "    if x in r:\n",
    "        c=c+1\n",
    "        k1=r[x]\n",
    "\n",
    "y=nltk.pos_tag(text)[0][0]\n",
    "s={\n",
    "    \"I\":1,\n",
    "    \"We\":2,\n",
    "    \"You\":3,\n",
    "    \"She\" or \"He\":4,\n",
    "    \"They\":5,\n",
    "  }\n",
    "if y in s:\n",
    "    k2=s[y]\n",
    "\n",
    "if(k2==1):\n",
    "    if(k1==1):\n",
    "        suf=\"uuchhi\"\n",
    "    elif(k1==2 and c==2):\n",
    "        suf=\"uuthhili\"\n",
    "    elif(k1==2 and c==3):\n",
    "        suf=\"aasutthili\"\n",
    "    elif(k1==3):\n",
    "        suf=\"eethhili\"\n",
    "if(k2==2):\n",
    "    if(k1==1):\n",
    "        suf=\"uuchhu\"\n",
    "    elif(k1==2 and c==2):\n",
    "        suf=\"uuthhile\"\n",
    "    elif(k1==2 and c==3):\n",
    "        suf=\"aasutthile\"\n",
    "    elif(k1==3):\n",
    "        suf=\"eethhile\"\n",
    "if(k2==3):\n",
    "    if(k1==1):\n",
    "        suf=\"uuchha\"\n",
    "    elif(k1==2 and c==2):\n",
    "        suf=\"uuthhila\"\n",
    "    elif(k1==2 and c==3):\n",
    "        suf=\"aasutthila\"\n",
    "    elif(k1==3):\n",
    "        suf=\"eethhila\"\n",
    "if(k2==4):\n",
    "    if(k1==2 and c==1):\n",
    "        suf=\"eechhee\"\n",
    "    elif(k1==2 and c==2):\n",
    "        suf=\"uuthhilaa\"\n",
    "    elif(k1==2 and c==3):\n",
    "        suf=\"aasutthilaa\"\n",
    "    elif(k1==3):\n",
    "        suf=\"eethhilaa\" \n",
    "if(k2==5):\n",
    "    if(k1==1):\n",
    "        suf=\"uuchhanthi\"\n",
    "    elif(k1==2 and c==2):\n",
    "        suf=\"uuthhile\"\n",
    "    elif(k1==2 and c==3):\n",
    "        suf=\"aasutthile\"\n",
    "    elif(k1==3):\n",
    "        suf=\"eethhile\"\n",
    "        \n",
    "print(\"khaa\"+suf)"
   ]
  },
  {
   "cell_type": "code",
   "execution_count": null,
   "metadata": {
    "collapsed": true
   },
   "outputs": [],
   "source": []
  }
 ],
 "metadata": {
  "kernelspec": {
   "display_name": "Python 2",
   "language": "python",
   "name": "python2"
  },
  "language_info": {
   "codemirror_mode": {
    "name": "ipython",
    "version": 2
   },
   "file_extension": ".py",
   "mimetype": "text/x-python",
   "name": "python",
   "nbconvert_exporter": "python",
   "pygments_lexer": "ipython2",
   "version": "2.7.12"
  }
 },
 "nbformat": 4,
 "nbformat_minor": 2
}
