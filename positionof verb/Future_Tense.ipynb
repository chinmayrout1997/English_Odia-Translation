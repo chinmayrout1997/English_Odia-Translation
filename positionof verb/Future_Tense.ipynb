{
 "cells": [
  {
   "cell_type": "code",
   "execution_count": 1,
   "metadata": {},
   "outputs": [
    {
     "name": "stdout",
     "output_type": "stream",
     "text": [
      "['She', 'will', 'eat']\n",
      "khaaeeba\n"
     ]
    }
   ],
   "source": [
    "import nltk\n",
    "from nltk import regexp_tokenize\n",
    "sent=\"She will eat\"\n",
    "suf=''\n",
    "text=regexp_tokenize(sent,\"[\\w']+\")\n",
    "print text\n",
    "nltk.pos_tag(text)\n",
    "c=0\n",
    "k=0\n",
    "#print len(text)\n",
    "\n",
    "for i in range(0,(len(text))):\n",
    "    x=nltk.pos_tag(text)[i][1]\n",
    "    p={\n",
    "        \"MD\":1,\n",
    "        \"VB\":2,\n",
    "        \"VBG\":3,\n",
    "        \"VBN\":4,\n",
    "    }\n",
    "    if x in p:\n",
    "        c=c+1\n",
    "        \n",
    "        \n",
    "        #print \"11111\"\n",
    "    elif (nltk.pos_tag(text)[i][1]=='VB'): \n",
    "        c=c+1\n",
    "        #print \"222\"\n",
    "    elif (nltk.pos_tag(text)[i][1]=='VBG'):\n",
    "        c=c+1\n",
    "        k=2\n",
    "        #print\"333\"\n",
    "    elif (nltk.pos_tag(text)[i][1]=='VBN'):\n",
    "        c=c+1\n",
    "        k=3\n",
    "        #print \"444\"\n",
    "if(c==2 and nltk.pos_tag(text)[0][1]=='PRP'):\n",
    "    if(nltk.pos_tag(text)[0][0]=='I'):\n",
    "        suf=\"eebi\"\n",
    "    elif(nltk.pos_tag(text)[0][0]=='We'or nltk.pos_tag(text)[0][0]=='They'):\n",
    "        suf=\"eebe\"\n",
    "    elif(nltk.pos_tag(text)[0][0]=='You'or nltk.pos_tag(text)[0][0]=='He' or nltk.pos_tag(text)[0][0]=='She'):\n",
    "        suf=\"eeb\"\n",
    "if(c==3 and k==2 and nltk.pos_tag(text)[0][1]=='PRP'):\n",
    "    #print \"555\"\n",
    "    if(nltk.pos_tag(text)[0][0]=='I'):\n",
    "        #print \"666\"\n",
    "        suf=\"eebi\"\n",
    "    elif(nltk.pos_tag(text)[0][0]=='We'or nltk.pos_tag(text)[0][0]=='They'):\n",
    "        suf=\"eebe\"\n",
    "        #print \"777\"\n",
    "    elif(nltk.pos_tag(text)[0][0]=='You'):\n",
    "        suf=\"eeb\"\n",
    "    elif(nltk.pos_tag(text)[0][0]=='He' or nltk.pos_tag(text)[0][0]=='She'):\n",
    "        suf=\"uthib\"\n",
    "\n",
    "if(c==3 and k==3 and nltk.pos_tag(text)[0][1]=='PRP'):\n",
    "    if(nltk.pos_tag(text)[0][0]=='I' or nltk.pos_tag(text)[0][0]=='He' or nltk.pos_tag(text)[0][0]=='She' or nltk.pos_tag(text)[0][0]=='You'):\n",
    "        suf=\"eesarithib\"\n",
    "    elif(nltk.pos_tag(text)[0][0]=='We'or nltk.pos_tag(text)[0][0]=='They'):\n",
    "        suf=\"eesarithibe\"\n",
    "print (\"khaa\"+suf)\n",
    "    \n",
    "    "
   ]
  },
  {
   "cell_type": "code",
   "execution_count": null,
   "metadata": {
    "collapsed": true
   },
   "outputs": [],
   "source": []
  }
 ],
 "metadata": {
  "kernelspec": {
   "display_name": "Python 2",
   "language": "python",
   "name": "python2"
  },
  "language_info": {
   "codemirror_mode": {
    "name": "ipython",
    "version": 2
   },
   "file_extension": ".py",
   "mimetype": "text/x-python",
   "name": "python",
   "nbconvert_exporter": "python",
   "pygments_lexer": "ipython2",
   "version": "2.7.12"
  }
 },
 "nbformat": 4,
 "nbformat_minor": 2
}
