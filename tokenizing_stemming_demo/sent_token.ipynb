{
 "cells": [
  {
   "cell_type": "code",
   "execution_count": 1,
   "metadata": {},
   "outputs": [
    {
     "data": {
      "text/plain": [
       "['Hi this is Akankshya.',\n",
       " \"I'm currently pusuing B.Tech engineering in the department of Computer Science.\",\n",
       " 'My roll no is 115cs0231.']"
      ]
     },
     "execution_count": 1,
     "metadata": {},
     "output_type": "execute_result"
    }
   ],
   "source": [
    "import nltk\n",
    "para=\"Hi this is Akankshya. I'm currently pusuing B.Tech engineering in the department of Computer Science. My roll no is 115cs0231.\"\n",
    "from nltk.tokenize import sent_tokenize\n",
    "sent_tokenize(para)\n"
   ]
  }
 ],
 "metadata": {
  "kernelspec": {
   "display_name": "Python 2",
   "language": "python",
   "name": "python2"
  },
  "language_info": {
   "codemirror_mode": {
    "name": "ipython",
    "version": 2
   },
   "file_extension": ".py",
   "mimetype": "text/x-python",
   "name": "python",
   "nbconvert_exporter": "python",
   "pygments_lexer": "ipython2",
   "version": "2.7.12"
  }
 },
 "nbformat": 4,
 "nbformat_minor": 2
}
