{
 "cells": [
  {
   "cell_type": "code",
   "execution_count": 2,
   "metadata": {},
   "outputs": [
    {
     "data": {
      "text/plain": [
       "['Hi', 'i', 'am', \"doin'\", 'great']"
      ]
     },
     "execution_count": 2,
     "metadata": {},
     "output_type": "execute_result"
    }
   ],
   "source": [
    "sent=\"Hi i am doin' great\"\n",
    "from nltk.tokenize import regexp_tokenize\n",
    "regexp_tokenize(sent,\"[\\w']+\")"
   ]
  },
  {
   "cell_type": "code",
   "execution_count": 14,
   "metadata": {},
   "outputs": [
    {
     "data": {
      "text/plain": [
       "['Hi',\n",
       " 'this',\n",
       " 'is',\n",
       " 'Akankshya',\n",
       " '.',\n",
       " 'I',\n",
       " \"'m\",\n",
       " 'currently',\n",
       " 'pusuing',\n",
       " 'B.Tech',\n",
       " 'engineering',\n",
       " 'in',\n",
       " 'the',\n",
       " 'department',\n",
       " 'of',\n",
       " 'Computer',\n",
       " 'Science',\n",
       " '.',\n",
       " 'My',\n",
       " 'roll',\n",
       " 'no',\n",
       " 'is',\n",
       " '115cs0231',\n",
       " '.']"
      ]
     },
     "execution_count": 14,
     "metadata": {},
     "output_type": "execute_result"
    }
   ],
   "source": [
    "sent=\"Hi this is Akankshya. I'm currently pusuing B.Tech engineering in the department of Computer Science. My roll no is 115cs0231.\"\n",
    "nltk.word_tokenize(sent)"
   ]
  },
  {
   "cell_type": "code",
   "execution_count": 15,
   "metadata": {},
   "outputs": [
    {
     "data": {
      "text/plain": [
       "['Hi',\n",
       " 'this',\n",
       " 'is',\n",
       " 'Akankshya',\n",
       " \"I'm\",\n",
       " 'currently',\n",
       " 'pusuing',\n",
       " 'B',\n",
       " 'Tech',\n",
       " 'engineering',\n",
       " 'in',\n",
       " 'the',\n",
       " 'department',\n",
       " 'of',\n",
       " 'Computer',\n",
       " 'Science',\n",
       " 'My',\n",
       " 'roll',\n",
       " 'no',\n",
       " 'is',\n",
       " '115cs0231']"
      ]
     },
     "execution_count": 15,
     "metadata": {},
     "output_type": "execute_result"
    }
   ],
   "source": [
    "import nltk\n",
    "sent=\"Hi this is Akankshya. I'm currently pusuing B.Tech engineering in the department of Computer Science. My roll no is 115cs0231.\"\n",
    "from nltk.tokenize import regexp_tokenize\n",
    "regexp_tokenize(sent,\"[\\w']+\")\n"
   ]
  },
  {
   "cell_type": "code",
   "execution_count": null,
   "metadata": {
    "collapsed": true
   },
   "outputs": [],
   "source": []
  }
 ],
 "metadata": {
  "kernelspec": {
   "display_name": "Python 2",
   "language": "python",
   "name": "python2"
  },
  "language_info": {
   "codemirror_mode": {
    "name": "ipython",
    "version": 2
   },
   "file_extension": ".py",
   "mimetype": "text/x-python",
   "name": "python",
   "nbconvert_exporter": "python",
   "pygments_lexer": "ipython2",
   "version": "2.7.12"
  }
 },
 "nbformat": 4,
 "nbformat_minor": 2
}
