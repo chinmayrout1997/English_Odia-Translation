{
 "cells": [
  {
   "cell_type": "code",
   "execution_count": 2,
   "metadata": {},
   "outputs": [
    {
     "ename": "ImportError",
     "evalue": "No module named util",
     "output_type": "error",
     "traceback": [
      "\u001b[0;31m---------------------------------------------------------------------------\u001b[0m",
      "\u001b[0;31mImportError\u001b[0m                               Traceback (most recent call last)",
      "\u001b[0;32m<ipython-input-2-c46f3be8417e>\u001b[0m in \u001b[0;36m<module>\u001b[0;34m()\u001b[0m\n\u001b[1;32m      5\u001b[0m \u001b[0;34m@\u001b[0m\u001b[0mauthor\u001b[0m\u001b[0;34m:\u001b[0m \u001b[0mayesha\u001b[0m\u001b[0;34m\u001b[0m\u001b[0m\n\u001b[1;32m      6\u001b[0m \"\"\"\n\u001b[0;32m----> 7\u001b[0;31m \u001b[0;32mfrom\u001b[0m \u001b[0mutil\u001b[0m \u001b[0;32mimport\u001b[0m \u001b[0mreorder\u001b[0m\u001b[0;34m\u001b[0m\u001b[0m\n\u001b[0m\u001b[1;32m      8\u001b[0m \u001b[0;32mimport\u001b[0m \u001b[0mjson\u001b[0m\u001b[0;34m\u001b[0m\u001b[0m\n\u001b[1;32m      9\u001b[0m \u001b[0;32mfrom\u001b[0m \u001b[0mpast\u001b[0m \u001b[0;32mimport\u001b[0m \u001b[0mget_verb\u001b[0m \u001b[0;32mas\u001b[0m \u001b[0mget_past_verb\u001b[0m\u001b[0;34m\u001b[0m\u001b[0m\n",
      "\u001b[0;31mImportError\u001b[0m: No module named util"
     ]
    }
   ],
   "source": [
    "# -*- coding: utf-8 -*-\n",
    "\"\"\"\n",
    "Created on Tue Nov 21 14:20:52 2017\n",
    "\n",
    "@author: ayesha\n",
    "\"\"\"\n",
    "from util import reorder\n",
    "import json\n",
    "from past import get_verb as get_past_verb\n",
    "from future import get_verb as get_future_verb\n",
    "from present_tense import get_verb as get_present_verb\n",
    "from bibhakti import bibhakti\n",
    "from phonetics import phonetics\n",
    "import re\n",
    "l= reorder('She has been going')\n",
    "print l\n",
    "#print 222\n",
    "output = [l[0]]\n",
    "for item in l:\n",
    "    if re.search(r'(?:VB|MD)', item[0]):\n",
    "        output.append(item)\n",
    "\n",
    "#tense = {'VBD', 'MD', 'VBP' or 'VBZ'}\n",
    "#print 111\n",
    "print output\n",
    "for item in output:\n",
    "    if item[0]=='VBD':\n",
    "        p,c=get_past_verb(output)\n",
    "        break\n",
    "    elif item[0]=='MD':\n",
    "        p,c=get_future_verb(output)\n",
    "        break\n",
    "    elif item[0]=='VBP' or item[0]=='VBZ':\n",
    "        #print 111\n",
    "        p,c=get_present_verb(output)\n",
    "        break\n",
    "        \n",
    "#print p\n",
    "l = l[:-c]\n",
    "l.append(p)\n",
    "print l\n",
    "corpus = json.load(open('vocabulary.txt'))\n",
    "for it in range(len(l)):\n",
    "    if type(l[it]) is tuple:\n",
    "        if l[it][0] in {'PRP', 'PRP$', 'IN', 'TO'}:\n",
    "            l[it] = bibhakti(l[it][1])\n",
    "        else:\n",
    "            #dict\n",
    "            if l[it][1] in corpus:\n",
    "                l[it] = corpus[l[it][1]]\n",
    "            else :\n",
    "                l[it] = phonetics(l[it][1])\n",
    "            \n",
    "    else:\n",
    "        l[it] = phonetics(l[it])\n",
    "    \n",
    "#for item in l:\n",
    "#    print item\n",
    "print ' '.join(l)"
   ]
  },
  {
   "cell_type": "code",
   "execution_count": null,
   "metadata": {
    "collapsed": true
   },
   "outputs": [],
   "source": []
  },
  {
   "cell_type": "code",
   "execution_count": null,
   "metadata": {
    "collapsed": true
   },
   "outputs": [],
   "source": []
  }
 ],
 "metadata": {
  "kernelspec": {
   "display_name": "Python 2",
   "language": "python",
   "name": "python2"
  },
  "language_info": {
   "codemirror_mode": {
    "name": "ipython",
    "version": 2
   },
   "file_extension": ".py",
   "mimetype": "text/x-python",
   "name": "python",
   "nbconvert_exporter": "python",
   "pygments_lexer": "ipython2",
   "version": "2.7.12"
  }
 },
 "nbformat": 4,
 "nbformat_minor": 2
}
