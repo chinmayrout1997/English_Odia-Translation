{
 "cells": [
  {
   "cell_type": "code",
   "execution_count": null,
   "metadata": {
    "collapsed": true
   },
   "outputs": [],
   "source": [
    "# -*- coding: utf-8 -*-\n",
    "\"\"\"\n",
    "Created on Wed Nov 22 00:03:59 2017\n",
    "\n",
    "@author: ayesha\n",
    "\"\"\"\n",
    "\n",
    "from nltk.stem import PorterStemmer\n",
    "import json\n",
    "def stem_verb(p):\n",
    "    st=PorterStemmer()\n",
    "    s=st.stem(p)\n",
    "    print s\n",
    "    corpus=json.load(open('verb_odia.txt','r'))\n",
    "    if s in corpus:\n",
    "        #print s\n",
    "        return corpus[s]\n",
    "#print stem_verb('gone')"
   ]
  }
 ],
 "metadata": {
  "kernelspec": {
   "display_name": "Python 2",
   "language": "python",
   "name": "python2"
  },
  "language_info": {
   "codemirror_mode": {
    "name": "ipython",
    "version": 2
   },
   "file_extension": ".py",
   "mimetype": "text/x-python",
   "name": "python",
   "nbconvert_exporter": "python",
   "pygments_lexer": "ipython2",
   "version": "2.7.12"
  }
 },
 "nbformat": 4,
 "nbformat_minor": 2
}
