{
 "cells": [
  {
   "cell_type": "code",
   "execution_count": null,
   "metadata": {
    "collapsed": true
   },
   "outputs": [],
   "source": [
    "'''import nltk\n",
    "from nltk import regexp_tokenize\n",
    "import re'''\n",
    "from phonetics import phonetics\n",
    "def bibhakti(r):\n",
    "    #x=raw_input('enter input ')\n",
    "    r=r.lower()\n",
    "    inp=''\n",
    "    p={\"he\" or 'she':\"se\",\n",
    "       'i' :'mun',\n",
    "       'we':'aame',\n",
    "       'our':'aamara',\n",
    "       'my': 'mora',\n",
    "       'him' or 'her' or 'his':'thaa',\n",
    "        'they':'se'+ 'maane',\n",
    "        'them':'thaanka',\n",
    "        'with':'sahitha',\n",
    "        'by':'dhbaaraa',\n",
    "        'to':'ku',\n",
    "        'for':'nimanthe' ,\n",
    "        'from':'Taaru',\n",
    "        'of':'ra',\n",
    "        'in':'re',\n",
    "        'on':'upare',\n",
    "        'among':'gahaNare',\n",
    "        'between':'bhithare',\n",
    "        'your':'thamara',\n",
    "        'their':'thaankara'\n",
    "    }\n",
    "    if r in p :\n",
    "        inp=p[r]\n",
    "    else :\n",
    "        inp=r\n",
    "        \n",
    "        #print inp    \n",
    "    return phonetics(inp)\n",
    "\n",
    "\n",
    "#sent=\"home\"\n",
    "#rint bibhakt(sent)\n"
   ]
  }
 ],
 "metadata": {
  "kernelspec": {
   "display_name": "Python 2",
   "language": "python",
   "name": "python2"
  },
  "language_info": {
   "codemirror_mode": {
    "name": "ipython",
    "version": 2
   },
   "file_extension": ".py",
   "mimetype": "text/x-python",
   "name": "python",
   "nbconvert_exporter": "python",
   "pygments_lexer": "ipython2",
   "version": "2.7.12"
  }
 },
 "nbformat": 4,
 "nbformat_minor": 2
}
