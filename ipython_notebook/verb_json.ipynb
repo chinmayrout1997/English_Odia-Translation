{
 "cells": [
  {
   "cell_type": "code",
   "execution_count": null,
   "metadata": {
    "collapsed": true
   },
   "outputs": [],
   "source": [
    "# -*- coding: utf-8 -*-\n",
    "\"\"\"\n",
    "Created on Tue Nov 21 23:47:08 2017\n",
    "\n",
    "@author: ayesha\n",
    "\"\"\"\n",
    "\n",
    "import json\n",
    "f=open('verb_root_odia.txt','r')\n",
    "d = dict()\n",
    "for line in f:\n",
    "    eng, odia= line.split(':')\n",
    "    #print len(line.split(':'))\n",
    "    eng = eng.strip()\n",
    "    odia = odia.split()\n",
    "    \n",
    "    odia = odia[0].strip()\n",
    "    d[eng] = odia\n",
    "#print d\n",
    "with open('verb_odia.txt','w') as outfile:\n",
    "    json.dump(d, outfile)\n",
    "    "
   ]
  }
 ],
 "metadata": {
  "kernelspec": {
   "display_name": "Python 2",
   "language": "python",
   "name": "python2"
  },
  "language_info": {
   "codemirror_mode": {
    "name": "ipython",
    "version": 2
   },
   "file_extension": ".py",
   "mimetype": "text/x-python",
   "name": "python",
   "nbconvert_exporter": "python",
   "pygments_lexer": "ipython2",
   "version": "2.7.12"
  }
 },
 "nbformat": 4,
 "nbformat_minor": 2
}
